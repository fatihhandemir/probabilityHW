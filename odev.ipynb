{
  "nbformat": 4,
  "nbformat_minor": 0,
  "metadata": {
    "colab": {
      "name": "Copy of Welcome To Colaboratory",
      "provenance": [],
      "collapsed_sections": [],
      "toc_visible": true,
      "include_colab_link": true
    },
    "kernelspec": {
      "display_name": "Python 3",
      "name": "python3"
    }
  },
  "cells": [
    {
      "cell_type": "markdown",
      "metadata": {
        "id": "view-in-github",
        "colab_type": "text"
      },
      "source": [
        "<a href=\"https://colab.research.google.com/github/fatihhandemir/probabilityHW/blob/master/odev.ipynb\" target=\"_parent\"><img src=\"https://colab.research.google.com/assets/colab-badge.svg\" alt=\"Open In Colab\"/></a>"
      ]
    },
    {
      "cell_type": "markdown",
      "metadata": {
        "id": "e-sXmPiswnUf",
        "colab_type": "text"
      },
      "source": [
        "**Ödev**\n",
        "SORU: Bir sınıfta yapılan sınavda her bir soru 5 puandır ve alınabilecek maksimum not 100'dür. En az iki öğrencinin aynı notu alma olasılığının yüzde seksenden fazla olması için sınava en az kaç öğrenci girmesi gerekir?\n",
        "        \n",
        "Sınavda alınabilecek not sayısı 20 tanedir.\n",
        "ikinci kişinin alabileceği farklı not ihtimali 19/20 dir. üçüncü kişinin 18/20 dir.\n",
        "En az iki öğrencinin farklı notu alması (19/20)*(18/20) = 0,855\n",
        "Tüm öğrenciler için bu durumu tekrarlarsak 8. öğrencide olasığılın %80'den fazla olduğunu görürüz."
      ]
    },
    {
      "cell_type": "code",
      "metadata": {
        "id": "d8UZS81FxCph",
        "colab_type": "code",
        "outputId": "ee720488-34d5-4091-ab49-83ea85db9451",
        "colab": {
          "base_uri": "https://localhost:8080/",
          "height": 357
        }
      },
      "source": [
        "from pylab import *\n",
        "import numpy as np\n",
        "\n",
        "# öğrenci sayisi (a)\n",
        "def olasilik(a):\n",
        "  o=1\n",
        "  for i in range(a):\n",
        "     o=o*((20-i)/20) #tüm örenciler için olasılıklar çarpılır.\n",
        "  o=round(100*o,4)\n",
        "  return 100-o # olamama durumundan çıkarıldı.\n",
        "for a in range(20):\n",
        "  print(a,olasilik(a))"
      ],
      "execution_count": 0,
      "outputs": [
        {
          "output_type": "stream",
          "text": [
            "0 0\n",
            "1 0.0\n",
            "2 5.0\n",
            "3 14.5\n",
            "4 27.325000000000003\n",
            "5 41.86\n",
            "6 56.395\n",
            "7 69.4765\n",
            "8 80.1597\n",
            "9 88.0958\n",
            "10 93.4527\n",
            "11 96.7264\n",
            "12 98.5269\n",
            "13 99.4107\n",
            "14 99.7938\n",
            "15 99.9381\n",
            "16 99.9845\n",
            "17 99.9969\n",
            "18 99.9995\n",
            "19 100.0\n"
          ],
          "name": "stdout"
        }
      ]
    }
  ]
}