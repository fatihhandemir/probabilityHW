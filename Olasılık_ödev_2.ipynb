{
  "nbformat": 4,
  "nbformat_minor": 0,
  "metadata": {
    "colab": {
      "name": "Olasılık_ödev_2",
      "provenance": [],
      "collapsed_sections": [],
      "toc_visible": true,
      "include_colab_link": true
    },
    "kernelspec": {
      "display_name": "Python 3",
      "name": "python3"
    }
  },
  "cells": [
    {
      "cell_type": "markdown",
      "metadata": {
        "id": "view-in-github",
        "colab_type": "text"
      },
      "source": [
        "<a href=\"https://colab.research.google.com/github/fatihhandemir/probabilityHW/blob/master/Olas%C4%B1l%C4%B1k_%C3%B6dev_2.ipynb\" target=\"_parent\"><img src=\"https://colab.research.google.com/assets/colab-badge.svg\" alt=\"Open In Colab\"/></a>"
      ]
    },
    {
      "cell_type": "markdown",
      "metadata": {
        "id": "1w5weXC5CV7m",
        "colab_type": "text"
      },
      "source": [
        "**Soru:** \n",
        "Bir grup arkadaş misketlerini bir torbanın içine koymuşlardır. Torbanın içinde 500 tane misket vardır. Bunlardan 6 tanesi Ali'ye aittir. Ali torbadan aynı anda 10 tane misket seçtiğinde seçilen misketlerin içinde kendi misketlerden bir tane olma olasılığı kaçtır?\n",
        "\n",
        "**Çözüm**\n",
        "\n",
        "*   p(Toplam misket sayısı)=500\n",
        "*   s(Seçilen misket sayısı)=10\n",
        "*   f(Aliye ait misketler)=40\n",
        "\n",
        "\n",
        "E(Olay uzayı)=Ali'nin misketleri hariç seçilmesi = C(p-f,s)\n",
        "S(Örnek uzayı)= Tüm misketlerden seçilmesi=C(p,s)\n",
        "\n",
        "P(!Ali) = C(p-f,s)/C(p,s)\n",
        "\n",
        "Alinin hiç misketinin seçilmemesi durumunu tüm olasılıklardan çıkarırsak sonucu bulmuş oluruz.\n",
        "\n",
        "P(Ali) = 1-P(!Ali)\n",
        "\n",
        "\n"
      ]
    },
    {
      "cell_type": "code",
      "metadata": {
        "id": "3OjxBD1hKoHL",
        "colab_type": "code",
        "outputId": "6ed4f197-f149-46bf-ec40-d9b42e9fa297",
        "colab": {
          "base_uri": "https://localhost:8080/",
          "height": 34
        }
      },
      "source": [
        "def faktoriyel(i): ##Faktöriyel fonksiyonu\n",
        "    if i==1:       \n",
        "        return 1\n",
        "    else: \n",
        "        return i * faktoriyel(i-1)\n",
        "\n",
        "def kombinasyon(n,r): ##Kombinasyon fonksiyonu\n",
        "    return int(faktoriyel(n)/(faktoriyel(n-r)*faktoriyel(r)))\n",
        "\n",
        "ToplamMisketSayisi=500\n",
        "SecilenMisketSayisi=10\n",
        "AliMisketSayisi=40\n",
        "\n",
        "Ca=kombinasyon(ToplamMisketSayisi-AliMisketSayisi,SecilenMisketSayisi)\n",
        "Cb=kombinasyon(ToplamMisketSayisi,SecilenMisketSayisi)\n",
        "\n",
        "sonuc=1-Ca/Cb\n",
        "print(sonuc)"
      ],
      "execution_count": 0,
      "outputs": [
        {
          "output_type": "stream",
          "text": [
            "0.56904309239388\n"
          ],
          "name": "stdout"
        }
      ]
    }
  ]
}