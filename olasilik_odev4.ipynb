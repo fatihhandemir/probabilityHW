{
  "nbformat": 4,
  "nbformat_minor": 0,
  "metadata": {
    "colab": {
      "name": "olasilik_odev4",
      "provenance": [],
      "collapsed_sections": [],
      "authorship_tag": "ABX9TyOELgUBUQCngqMlpzCy5vPX",
      "include_colab_link": true
    },
    "kernelspec": {
      "name": "python3",
      "display_name": "Python 3"
    }
  },
  "cells": [
    {
      "cell_type": "markdown",
      "metadata": {
        "id": "view-in-github",
        "colab_type": "text"
      },
      "source": [
        "<a href=\"https://colab.research.google.com/github/fatihhandemir/probabilityHW/blob/master/olasilik_odev4.ipynb\" target=\"_parent\"><img src=\"https://colab.research.google.com/assets/colab-badge.svg\" alt=\"Open In Colab\"/></a>"
      ]
    },
    {
      "cell_type": "markdown",
      "metadata": {
        "id": "6hBPc1yp5ahS",
        "colab_type": "text"
      },
      "source": [
        "**Binomial Dağılım**\n",
        "\n",
        "**Soru:**\n",
        "Bir kutuda 10 tane ilaç vardır. İlaçlardan 5 tanesi asprindir. Kutudan seçilen 3 tane ilaçtan 2 tanesinin asprin olma olasılığı nedir?\n",
        "\n",
        "**Çözüm:**\n",
        "\n",
        "P(X=k)=(n,k)*p^k*(1-p)^(n-k)\n",
        "\n",
        "Soru için n=3,p=0,5;\n",
        "k=2 için;\n",
        "\n",
        "P(X=2)=(3,2)*0,5^2*(1-0,5)^(3-2)\n"
      ]
    },
    {
      "cell_type": "code",
      "metadata": {
        "id": "iIGJg-Eu9miV",
        "colab_type": "code",
        "outputId": "d3ffe409-a383-45d5-c0c5-68573b6f02b0",
        "colab": {
          "base_uri": "https://localhost:8080/",
          "height": 34
        }
      },
      "source": [
        "def faktoriyel(i): ##Faktöriyel fonksiyonu\n",
        "    if i==1 | i ==0:       \n",
        "        return 1\n",
        "    else: \n",
        "        return i * faktoriyel(i-1)\n",
        "\n",
        "def kombinasyon(n,r): ##Kombinasyon fonksiyonu\n",
        "    return int(faktoriyel(n)/(faktoriyel(n-r)*faktoriyel(r)))\n",
        "\n",
        "n=3 ##deneme sayısı\n",
        "k=2 ##istenen değer\n",
        "p=0.5 ##başarılı olma olasılığı\n",
        "sonuc=kombinasyon(n,k)*pow(p,k)*pow((1-p),(n-k))\n",
        "print(sonuc)"
      ],
      "execution_count": 0,
      "outputs": [
        {
          "output_type": "stream",
          "text": [
            "0.375\n"
          ],
          "name": "stdout"
        }
      ]
    },
    {
      "cell_type": "markdown",
      "metadata": {
        "id": "_x-fGz3TEJp1",
        "colab_type": "text"
      },
      "source": [
        "**Poisson Dağılımı**\n",
        "\n",
        "**Soru:**Bit uzunlugu 10^4 olan bir mesajdaki, herhangi bitin bagımsız olarak bozulma\n",
        "ihtimali 10^-6 dır. Bu mesajın bozulmadan iletilme olasılıgı nedir?\n",
        "\n",
        "**Çözüm:**\n",
        "\n",
        "![alt text](https://www.veribilimiokulu.com/wp-content/uploads/2019/04/poisson_dist_resized.png)\n",
        "\n",
        "λ=10^4*10^-6= 0.01\n",
        "\n",
        "X=0 için;\n",
        "\n",
        "P(X=0) = λ^0/0! * e^-λ\n",
        "P(X=0) = 0.99004"
      ]
    },
    {
      "cell_type": "code",
      "metadata": {
        "id": "CoJJmpd2JT8t",
        "colab_type": "code",
        "colab": {
          "base_uri": "https://localhost:8080/",
          "height": 34
        },
        "outputId": "300c9f11-267c-4a43-b242-edd276931d16"
      },
      "source": [
        "import math\n",
        "n=10^4 ## bit uzunluğu\n",
        "p=10^-6 ##bozulma olasılığı\n",
        "\n",
        "lmb=n*p ##lambda\n",
        "\n",
        "P_sonuc=(lmb**0/math.factorial(0))*math.exp(-lmb)\n",
        "print(P_sonuc)"
      ],
      "execution_count": 18,
      "outputs": [
        {
          "output_type": "stream",
          "text": [
            "1.9140970165092822e+97\n"
          ],
          "name": "stdout"
        }
      ]
    }
  ]
}